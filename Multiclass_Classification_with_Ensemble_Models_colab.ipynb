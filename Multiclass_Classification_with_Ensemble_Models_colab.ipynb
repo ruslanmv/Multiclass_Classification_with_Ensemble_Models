{
  "nbformat": 4,
  "nbformat_minor": 0,
  "metadata": {
    "colab": {
      "name": "Multiclass_Classification_with_Ensemble_Models_colab.ipynb",
      "provenance": [],
      "collapsed_sections": [],
      "include_colab_link": true
    },
    "kernelspec": {
      "name": "python3",
      "display_name": "Python 3"
    }
  },
  "cells": [
    {
      "cell_type": "markdown",
      "metadata": {
        "id": "view-in-github",
        "colab_type": "text"
      },
      "source": [
        "<a href=\"https://colab.research.google.com/github/ruslanmv/Multiclass_Classification_with_Ensemble_Models/blob/master/Multiclass_Classification_with_Ensemble_Models_colab.ipynb\" target=\"_parent\"><img src=\"https://colab.research.google.com/assets/colab-badge.svg\" alt=\"Open In Colab\"/></a>"
      ]
    },
    {
      "cell_type": "markdown",
      "metadata": {
        "id": "06ElhD_-EVPH"
      },
      "source": [
        "# Ensemble models for MultiClass Classification"
      ]
    },
    {
      "cell_type": "markdown",
      "source": [
        "Hello everyone, today we are going to discuss some of the most common ensemble models of classification.\n",
        "\n",
        "*   Decision Tree Classifier\n",
        "*   Bagging Classifier\n",
        "*   Random Forest Classifier\n",
        "*   AdaBoost Classifier\n",
        "*   Gradient Boosting Classifier\n",
        "*   Xgboost Classifier\n",
        "*   KNeighbors Classifier\n",
        "*   GaussianNB Classifier\n",
        "*   Random Forest Classifier\n",
        "*   Logistic Regression"
      ],
      "metadata": {
        "id": "yLHjikKZv7de"
      }
    },
    {
      "cell_type": "markdown",
      "source": [
        "The goal of ensemble methods is to combine the predictions of several base estimators built with a given learning algorithm in order to improve generalizability "
      ],
      "metadata": {
        "id": "Q-NUO6vCwEui"
      }
    },
    {
      "cell_type": "markdown",
      "source": [
        "We are going to classify a set of wines based on their attributes and use different Ensemble techniques. Ensemble models in machine learning combine the decisions from multiple models to improve the overall performance. "
      ],
      "metadata": {
        "id": "UzW9bWS8wAC7"
      }
    },
    {
      "cell_type": "markdown",
      "metadata": {
        "id": "hj-5ajN7GM9w"
      },
      "source": [
        "## Averaging methods\n",
        "\n",
        "In averaging methods, the driving principle is to build several **estimators independently** and then to average their predictions. On average, the combined estimator is usually better than any of the single base estimator because its variance is reduced\n",
        "\n",
        "Examples: Forests of randomized trees , Bagging methods, …"
      ]
    },
    {
      "cell_type": "markdown",
      "metadata": {
        "id": "ot6vXuLbHnNL"
      },
      "source": [
        "## Boosting methods:\n",
        "\n",
        "In boosting methods, base **estimators are built sequentially** and one tries to reduce the bias of the combined estimator. The motivation is to combine several weak models to produce a powerful ensemble.\n",
        "\n",
        "\n",
        "Boosting helps improve our mode by reducing variance!\n",
        "   \n",
        "   \n",
        "Examples: AdaBoost, Gradient Tree Boosting, …\n",
        "\n",
        "\n"
      ]
    },
    {
      "cell_type": "markdown",
      "source": [
        "## Decision Tree Classifier\n",
        "\n",
        "Bagging methods are used as a way to reduce the variance of a base estimator\n",
        "For example  **Decision Tree**, by introducing randomization into its construction procedure and then making an ensemble out of it"
      ],
      "metadata": {
        "id": "l1qfq9vY1lHM"
      }
    },
    {
      "cell_type": "code",
      "metadata": {
        "id": "1qtLluJGV7BX"
      },
      "source": [
        "from sklearn.datasets import load_wine\n",
        "from sklearn import datasets\n",
        "from sklearn.tree import DecisionTreeClassifier\n",
        "import pandas as pd\n",
        "wine = load_wine()"
      ],
      "execution_count": null,
      "outputs": []
    },
    {
      "cell_type": "code",
      "source": [
        "def sklearn_to_df(sklearn_dataset):\n",
        "    df = pd.DataFrame(sklearn_dataset.data, columns=sklearn_dataset.feature_names)\n",
        "    df['target'] = pd.Series(sklearn_dataset.target)\n",
        "    return df"
      ],
      "metadata": {
        "id": "tJpJgyXwqgbt"
      },
      "execution_count": null,
      "outputs": []
    },
    {
      "cell_type": "code",
      "source": [
        "df = sklearn_to_df(datasets.load_wine())"
      ],
      "metadata": {
        "id": "Ty9y2emxuSKG"
      },
      "execution_count": null,
      "outputs": []
    },
    {
      "cell_type": "code",
      "source": [
        "df.head()"
      ],
      "metadata": {
        "colab": {
          "base_uri": "https://localhost:8080/",
          "height": 206
        },
        "id": "v25hhNt0q3SX",
        "outputId": "efac50e9-2a5a-4e48-b877-87ffc1719549"
      },
      "execution_count": null,
      "outputs": [
        {
          "output_type": "execute_result",
          "data": {
            "text/plain": [
              "   alcohol  malic_acid   ash  alcalinity_of_ash  magnesium  total_phenols  \\\n",
              "0    14.23        1.71  2.43               15.6      127.0           2.80   \n",
              "1    13.20        1.78  2.14               11.2      100.0           2.65   \n",
              "2    13.16        2.36  2.67               18.6      101.0           2.80   \n",
              "3    14.37        1.95  2.50               16.8      113.0           3.85   \n",
              "4    13.24        2.59  2.87               21.0      118.0           2.80   \n",
              "\n",
              "   flavanoids  nonflavanoid_phenols  proanthocyanins  color_intensity   hue  \\\n",
              "0        3.06                  0.28             2.29             5.64  1.04   \n",
              "1        2.76                  0.26             1.28             4.38  1.05   \n",
              "2        3.24                  0.30             2.81             5.68  1.03   \n",
              "3        3.49                  0.24             2.18             7.80  0.86   \n",
              "4        2.69                  0.39             1.82             4.32  1.04   \n",
              "\n",
              "   od280/od315_of_diluted_wines  proline  target  \n",
              "0                          3.92   1065.0       0  \n",
              "1                          3.40   1050.0       0  \n",
              "2                          3.17   1185.0       0  \n",
              "3                          3.45   1480.0       0  \n",
              "4                          2.93    735.0       0  "
            ],
            "text/html": [
              "\n",
              "  <div id=\"df-2ae402f0-8b3e-42a4-9c0a-dd5e3ddad240\">\n",
              "    <div class=\"colab-df-container\">\n",
              "      <div>\n",
              "<style scoped>\n",
              "    .dataframe tbody tr th:only-of-type {\n",
              "        vertical-align: middle;\n",
              "    }\n",
              "\n",
              "    .dataframe tbody tr th {\n",
              "        vertical-align: top;\n",
              "    }\n",
              "\n",
              "    .dataframe thead th {\n",
              "        text-align: right;\n",
              "    }\n",
              "</style>\n",
              "<table border=\"1\" class=\"dataframe\">\n",
              "  <thead>\n",
              "    <tr style=\"text-align: right;\">\n",
              "      <th></th>\n",
              "      <th>alcohol</th>\n",
              "      <th>malic_acid</th>\n",
              "      <th>ash</th>\n",
              "      <th>alcalinity_of_ash</th>\n",
              "      <th>magnesium</th>\n",
              "      <th>total_phenols</th>\n",
              "      <th>flavanoids</th>\n",
              "      <th>nonflavanoid_phenols</th>\n",
              "      <th>proanthocyanins</th>\n",
              "      <th>color_intensity</th>\n",
              "      <th>hue</th>\n",
              "      <th>od280/od315_of_diluted_wines</th>\n",
              "      <th>proline</th>\n",
              "      <th>target</th>\n",
              "    </tr>\n",
              "  </thead>\n",
              "  <tbody>\n",
              "    <tr>\n",
              "      <th>0</th>\n",
              "      <td>14.23</td>\n",
              "      <td>1.71</td>\n",
              "      <td>2.43</td>\n",
              "      <td>15.6</td>\n",
              "      <td>127.0</td>\n",
              "      <td>2.80</td>\n",
              "      <td>3.06</td>\n",
              "      <td>0.28</td>\n",
              "      <td>2.29</td>\n",
              "      <td>5.64</td>\n",
              "      <td>1.04</td>\n",
              "      <td>3.92</td>\n",
              "      <td>1065.0</td>\n",
              "      <td>0</td>\n",
              "    </tr>\n",
              "    <tr>\n",
              "      <th>1</th>\n",
              "      <td>13.20</td>\n",
              "      <td>1.78</td>\n",
              "      <td>2.14</td>\n",
              "      <td>11.2</td>\n",
              "      <td>100.0</td>\n",
              "      <td>2.65</td>\n",
              "      <td>2.76</td>\n",
              "      <td>0.26</td>\n",
              "      <td>1.28</td>\n",
              "      <td>4.38</td>\n",
              "      <td>1.05</td>\n",
              "      <td>3.40</td>\n",
              "      <td>1050.0</td>\n",
              "      <td>0</td>\n",
              "    </tr>\n",
              "    <tr>\n",
              "      <th>2</th>\n",
              "      <td>13.16</td>\n",
              "      <td>2.36</td>\n",
              "      <td>2.67</td>\n",
              "      <td>18.6</td>\n",
              "      <td>101.0</td>\n",
              "      <td>2.80</td>\n",
              "      <td>3.24</td>\n",
              "      <td>0.30</td>\n",
              "      <td>2.81</td>\n",
              "      <td>5.68</td>\n",
              "      <td>1.03</td>\n",
              "      <td>3.17</td>\n",
              "      <td>1185.0</td>\n",
              "      <td>0</td>\n",
              "    </tr>\n",
              "    <tr>\n",
              "      <th>3</th>\n",
              "      <td>14.37</td>\n",
              "      <td>1.95</td>\n",
              "      <td>2.50</td>\n",
              "      <td>16.8</td>\n",
              "      <td>113.0</td>\n",
              "      <td>3.85</td>\n",
              "      <td>3.49</td>\n",
              "      <td>0.24</td>\n",
              "      <td>2.18</td>\n",
              "      <td>7.80</td>\n",
              "      <td>0.86</td>\n",
              "      <td>3.45</td>\n",
              "      <td>1480.0</td>\n",
              "      <td>0</td>\n",
              "    </tr>\n",
              "    <tr>\n",
              "      <th>4</th>\n",
              "      <td>13.24</td>\n",
              "      <td>2.59</td>\n",
              "      <td>2.87</td>\n",
              "      <td>21.0</td>\n",
              "      <td>118.0</td>\n",
              "      <td>2.80</td>\n",
              "      <td>2.69</td>\n",
              "      <td>0.39</td>\n",
              "      <td>1.82</td>\n",
              "      <td>4.32</td>\n",
              "      <td>1.04</td>\n",
              "      <td>2.93</td>\n",
              "      <td>735.0</td>\n",
              "      <td>0</td>\n",
              "    </tr>\n",
              "  </tbody>\n",
              "</table>\n",
              "</div>\n",
              "      <button class=\"colab-df-convert\" onclick=\"convertToInteractive('df-2ae402f0-8b3e-42a4-9c0a-dd5e3ddad240')\"\n",
              "              title=\"Convert this dataframe to an interactive table.\"\n",
              "              style=\"display:none;\">\n",
              "        \n",
              "  <svg xmlns=\"http://www.w3.org/2000/svg\" height=\"24px\"viewBox=\"0 0 24 24\"\n",
              "       width=\"24px\">\n",
              "    <path d=\"M0 0h24v24H0V0z\" fill=\"none\"/>\n",
              "    <path d=\"M18.56 5.44l.94 2.06.94-2.06 2.06-.94-2.06-.94-.94-2.06-.94 2.06-2.06.94zm-11 1L8.5 8.5l.94-2.06 2.06-.94-2.06-.94L8.5 2.5l-.94 2.06-2.06.94zm10 10l.94 2.06.94-2.06 2.06-.94-2.06-.94-.94-2.06-.94 2.06-2.06.94z\"/><path d=\"M17.41 7.96l-1.37-1.37c-.4-.4-.92-.59-1.43-.59-.52 0-1.04.2-1.43.59L10.3 9.45l-7.72 7.72c-.78.78-.78 2.05 0 2.83L4 21.41c.39.39.9.59 1.41.59.51 0 1.02-.2 1.41-.59l7.78-7.78 2.81-2.81c.8-.78.8-2.07 0-2.86zM5.41 20L4 18.59l7.72-7.72 1.47 1.35L5.41 20z\"/>\n",
              "  </svg>\n",
              "      </button>\n",
              "      \n",
              "  <style>\n",
              "    .colab-df-container {\n",
              "      display:flex;\n",
              "      flex-wrap:wrap;\n",
              "      gap: 12px;\n",
              "    }\n",
              "\n",
              "    .colab-df-convert {\n",
              "      background-color: #E8F0FE;\n",
              "      border: none;\n",
              "      border-radius: 50%;\n",
              "      cursor: pointer;\n",
              "      display: none;\n",
              "      fill: #1967D2;\n",
              "      height: 32px;\n",
              "      padding: 0 0 0 0;\n",
              "      width: 32px;\n",
              "    }\n",
              "\n",
              "    .colab-df-convert:hover {\n",
              "      background-color: #E2EBFA;\n",
              "      box-shadow: 0px 1px 2px rgba(60, 64, 67, 0.3), 0px 1px 3px 1px rgba(60, 64, 67, 0.15);\n",
              "      fill: #174EA6;\n",
              "    }\n",
              "\n",
              "    [theme=dark] .colab-df-convert {\n",
              "      background-color: #3B4455;\n",
              "      fill: #D2E3FC;\n",
              "    }\n",
              "\n",
              "    [theme=dark] .colab-df-convert:hover {\n",
              "      background-color: #434B5C;\n",
              "      box-shadow: 0px 1px 3px 1px rgba(0, 0, 0, 0.15);\n",
              "      filter: drop-shadow(0px 1px 2px rgba(0, 0, 0, 0.3));\n",
              "      fill: #FFFFFF;\n",
              "    }\n",
              "  </style>\n",
              "\n",
              "      <script>\n",
              "        const buttonEl =\n",
              "          document.querySelector('#df-2ae402f0-8b3e-42a4-9c0a-dd5e3ddad240 button.colab-df-convert');\n",
              "        buttonEl.style.display =\n",
              "          google.colab.kernel.accessAllowed ? 'block' : 'none';\n",
              "\n",
              "        async function convertToInteractive(key) {\n",
              "          const element = document.querySelector('#df-2ae402f0-8b3e-42a4-9c0a-dd5e3ddad240');\n",
              "          const dataTable =\n",
              "            await google.colab.kernel.invokeFunction('convertToInteractive',\n",
              "                                                     [key], {});\n",
              "          if (!dataTable) return;\n",
              "\n",
              "          const docLinkHtml = 'Like what you see? Visit the ' +\n",
              "            '<a target=\"_blank\" href=https://colab.research.google.com/notebooks/data_table.ipynb>data table notebook</a>'\n",
              "            + ' to learn more about interactive tables.';\n",
              "          element.innerHTML = '';\n",
              "          dataTable['output_type'] = 'display_data';\n",
              "          await google.colab.output.renderOutput(dataTable, element);\n",
              "          const docLink = document.createElement('div');\n",
              "          docLink.innerHTML = docLinkHtml;\n",
              "          element.appendChild(docLink);\n",
              "        }\n",
              "      </script>\n",
              "    </div>\n",
              "  </div>\n",
              "  "
            ]
          },
          "metadata": {},
          "execution_count": 41
        }
      ]
    },
    {
      "cell_type": "code",
      "source": [
        "wine.target[[10, 80, 140]]\n",
        "list(wine.target_names)\n"
      ],
      "metadata": {
        "colab": {
          "base_uri": "https://localhost:8080/"
        },
        "id": "w2ap3q71o__4",
        "outputId": "4e4e6de6-f695-4165-8c56-5849f63cf2f4"
      },
      "execution_count": null,
      "outputs": [
        {
          "output_type": "execute_result",
          "data": {
            "text/plain": [
              "['class_0', 'class_1', 'class_2']"
            ]
          },
          "metadata": {},
          "execution_count": 42
        }
      ]
    },
    {
      "cell_type": "code",
      "source": [
        "X, y = wine.data[:, 11:13], wine.target"
      ],
      "metadata": {
        "id": "S8-ChG_6oyJ2"
      },
      "execution_count": null,
      "outputs": []
    },
    {
      "cell_type": "code",
      "metadata": {
        "id": "dmorWI8YV7KU",
        "colab": {
          "base_uri": "https://localhost:8080/"
        },
        "outputId": "f9c27474-3fe3-4635-aa5e-1ac5c11bfb8d"
      },
      "source": [
        "clf = DecisionTreeClassifier()\n",
        "clf.fit(X,y)"
      ],
      "execution_count": null,
      "outputs": [
        {
          "output_type": "execute_result",
          "data": {
            "text/plain": [
              "DecisionTreeClassifier()"
            ]
          },
          "metadata": {},
          "execution_count": 44
        }
      ]
    },
    {
      "cell_type": "code",
      "metadata": {
        "id": "-GP_3THoV7qt",
        "colab": {
          "base_uri": "https://localhost:8080/"
        },
        "outputId": "de1ebd0f-00c0-4692-e2e4-2efe4715e94f"
      },
      "source": [
        "clf.score(X,y)"
      ],
      "execution_count": null,
      "outputs": [
        {
          "output_type": "execute_result",
          "data": {
            "text/plain": [
              "1.0"
            ]
          },
          "metadata": {},
          "execution_count": 45
        }
      ]
    },
    {
      "cell_type": "markdown",
      "source": [
        "## Bagging Classifier\n",
        "\n",
        " A Bagging classifier is an ensemble meta-estimator that fits base classifiers each on random subsets of the original dataset and then aggregate their individual predictions (either by voting or by averaging) to form a final prediction."
      ],
      "metadata": {
        "id": "dQyYF2QA1vQB"
      }
    },
    {
      "cell_type": "code",
      "metadata": {
        "id": "n9dviykNHmA0",
        "colab": {
          "base_uri": "https://localhost:8080/"
        },
        "outputId": "1cbfd0b5-5a9f-4c45-aed0-87b908c2e618"
      },
      "source": [
        "from sklearn.ensemble import BaggingClassifier\n",
        "\n",
        "bg = BaggingClassifier(base_estimator = clf , max_samples=0.1 , max_features = 0.1, n_estimators= 10)\n",
        "\n",
        "bg.fit(X,y)"
      ],
      "execution_count": null,
      "outputs": [
        {
          "output_type": "execute_result",
          "data": {
            "text/plain": [
              "BaggingClassifier(base_estimator=DecisionTreeClassifier(), max_features=0.1,\n",
              "                  max_samples=0.1)"
            ]
          },
          "metadata": {},
          "execution_count": 46
        }
      ]
    },
    {
      "cell_type": "code",
      "metadata": {
        "id": "6W7VYd5KEN5p",
        "colab": {
          "base_uri": "https://localhost:8080/"
        },
        "outputId": "8d6dd536-19d9-41b9-dc5d-d5f88edac1c1"
      },
      "source": [
        "bg.score(X,y)"
      ],
      "execution_count": null,
      "outputs": [
        {
          "output_type": "execute_result",
          "data": {
            "text/plain": [
              "0.8539325842696629"
            ]
          },
          "metadata": {},
          "execution_count": 47
        }
      ]
    },
    {
      "cell_type": "code",
      "metadata": {
        "id": "lVh1qYsDEZ6_",
        "colab": {
          "base_uri": "https://localhost:8080/",
          "height": 282
        },
        "outputId": "f08e6a0f-0177-49bf-cac6-fab53d7ee587"
      },
      "source": [
        "from mlxtend.plotting import  plot_decision_regions\n",
        "plot_decision_regions(X,y,bg)"
      ],
      "execution_count": null,
      "outputs": [
        {
          "output_type": "execute_result",
          "data": {
            "text/plain": [
              "<AxesSubplot:>"
            ]
          },
          "metadata": {},
          "execution_count": 48
        },
        {
          "output_type": "display_data",
          "data": {
            "text/plain": [
              "<Figure size 432x288 with 1 Axes>"
            ],
            "image/png": "[encoded data removed]"
          },
          "metadata": {
            "needs_background": "light"
          }
        }
      ]
    },
    {
      "cell_type": "markdown",
      "metadata": {
        "id": "KzCl6h0uJ4Bx"
      },
      "source": [
        "#  Bagging algorithms\n",
        "\n",
        "Bagging, also known as Bootstrap aggregating, is an ensemble learning technique that helps to improve the performance and accuracy of machine learning algorithms. It is used to deal with bias-variance trade-offs and reduces the variance of a prediction model\n",
        "\n",
        "Exmaples: Random forest"
      ]
    },
    {
      "cell_type": "markdown",
      "source": [
        "## Decision tree\n",
        "The core unit of random forest classifiers is the decision tree. \n",
        "The decision tree is a hierarchical structure that is built using the features (or the independent variables) of a data set. Each node of the decision tree is split according to a measure associated with a subset of the features.\n",
        "## Random Forest Classifier\n",
        " The random forest is a collection of decision trees that are associated with a set of bootstrap samples that are generated from the original data set. The nodes are split based on the entropy (or Gini index) of a selected subset of the features. The subsets that are created from the original data set, using bootstrapping, are of the same size as the original data set.\n",
        "\n",
        "For classification tasks, the output of the random forest is the class selected by most trees. Random forests generally outperform decision trees, but their accuracy is lower than gradient boosted trees. However, data characteristics can affect their performance"
      ],
      "metadata": {
        "id": "C7WW_L1_163a"
      }
    },
    {
      "cell_type": "code",
      "metadata": {
        "id": "gUbhaEYYEhlP"
      },
      "source": [
        "from sklearn.ensemble import  RandomForestClassifier"
      ],
      "execution_count": null,
      "outputs": []
    },
    {
      "cell_type": "code",
      "source": [
        "rf = RandomForestClassifier(n_estimators=10)"
      ],
      "metadata": {
        "id": "YJXkWHxXHCfg"
      },
      "execution_count": null,
      "outputs": []
    },
    {
      "cell_type": "code",
      "metadata": {
        "id": "bvQXz9mcWDQz",
        "colab": {
          "base_uri": "https://localhost:8080/"
        },
        "outputId": "0cb51c3d-e983-4fdf-fcd5-4261b241455e"
      },
      "source": [
        "rf.fit(X,y)"
      ],
      "execution_count": null,
      "outputs": [
        {
          "output_type": "execute_result",
          "data": {
            "text/plain": [
              "RandomForestClassifier(n_estimators=10)"
            ]
          },
          "metadata": {},
          "execution_count": 51
        }
      ]
    },
    {
      "cell_type": "code",
      "metadata": {
        "id": "I6kHVWjSWDWs",
        "colab": {
          "base_uri": "https://localhost:8080/"
        },
        "outputId": "27afc555-876f-4074-ee75-2e16b51f387f"
      },
      "source": [
        "rf.score(X,y)"
      ],
      "execution_count": null,
      "outputs": [
        {
          "output_type": "execute_result",
          "data": {
            "text/plain": [
              "0.9887640449438202"
            ]
          },
          "metadata": {},
          "execution_count": 52
        }
      ]
    },
    {
      "cell_type": "code",
      "metadata": {
        "id": "MqE5TYVwWD07",
        "colab": {
          "base_uri": "https://localhost:8080/",
          "height": 282
        },
        "outputId": "6d9ae41d-60cb-4a85-b89e-b4cd827a3a13"
      },
      "source": [
        "from mlxtend.plotting import  plot_decision_regions\n",
        "plot_decision_regions(X,y,rf)"
      ],
      "execution_count": null,
      "outputs": [
        {
          "output_type": "execute_result",
          "data": {
            "text/plain": [
              "<AxesSubplot:>"
            ]
          },
          "metadata": {},
          "execution_count": 53
        },
        {
          "output_type": "display_data",
          "data": {
            "text/plain": [
              "<Figure size 432x288 with 1 Axes>"
            ],
            "image/png": "[encoded data removed]"
          },
          "metadata": {
            "needs_background": "light"
          }
        }
      ]
    },
    {
      "cell_type": "markdown",
      "metadata": {
        "id": "u17U8P94Eh6_"
      },
      "source": [
        "## AdaBoost Classifier"
      ]
    },
    {
      "cell_type": "markdown",
      "source": [
        "The core principle of AdaBoost is to fit a sequence of weak learners (i.e., models that are only slightly better than random guessing, such as small decision trees) on repeatedly modified versions of the data."
      ],
      "metadata": {
        "id": "xistteJt9Lco"
      }
    },
    {
      "cell_type": "code",
      "metadata": {
        "id": "9G047y-QElOP",
        "colab": {
          "base_uri": "https://localhost:8080/",
          "height": 282
        },
        "outputId": "6dde4aef-8eb1-490f-9796-a86cdba6e4eb"
      },
      "source": [
        "from sklearn.ensemble import AdaBoostClassifier\n",
        "\n",
        "clf = DecisionTreeClassifier(criterion='entropy', max_depth= 1)\n",
        "\n",
        "clf_boost = AdaBoostClassifier(clf, n_estimators = 1)\n",
        "clf_boost.fit(X,y)\n",
        "plot_decision_regions(X,y,clf_boost)"
      ],
      "execution_count": null,
      "outputs": [
        {
          "output_type": "execute_result",
          "data": {
            "text/plain": [
              "<AxesSubplot:>"
            ]
          },
          "metadata": {},
          "execution_count": 54
        },
        {
          "output_type": "display_data",
          "data": {
            "text/plain": [
              "<Figure size 432x288 with 1 Axes>"
            ],
            "image/png": "[encoded data removed]"
          },
          "metadata": {
            "needs_background": "light"
          }
        }
      ]
    },
    {
      "cell_type": "code",
      "metadata": {
        "id": "cLssMOSMEldN",
        "colab": {
          "base_uri": "https://localhost:8080/",
          "height": 1000
        },
        "outputId": "c4f4cde6-450b-462a-a320-a1ddbfddd547"
      },
      "source": [
        "import matplotlib.pyplot as plt\n",
        "\n",
        "n_est=[1,2,5,10]\n",
        "\n",
        "for num_est in n_est:\n",
        "\n",
        "    clf_boost = AdaBoostClassifier(clf, n_estimators = num_est)\n",
        "    clf_boost.fit(X,y)\n",
        "    plot_decision_regions(X,y,clf_boost)\n",
        "    print(clf_boost.score(X,y))\n",
        "    plt.show()\n"
      ],
      "execution_count": null,
      "outputs": [
        {
          "output_type": "stream",
          "name": "stdout",
          "text": [
            "0.601123595505618\n"
          ]
        },
        {
          "output_type": "display_data",
          "data": {
            "text/plain": [
              "<Figure size 432x288 with 1 Axes>"
            ],
            "image/png": "[encoded data removed]"
          },
          "metadata": {
            "needs_background": "light"
          }
        },
        {
          "output_type": "stream",
          "name": "stdout",
          "text": [
            "0.7303370786516854\n"
          ]
        },
        {
          "output_type": "display_data",
          "data": {
            "text/plain": [
              "<Figure size 432x288 with 1 Axes>"
            ],
            "image/png": "[encoded data removed]"
          },
          "metadata": {
            "needs_background": "light"
          }
        },
        {
          "output_type": "stream",
          "name": "stdout",
          "text": [
            "0.8595505617977528\n"
          ]
        },
        {
          "output_type": "display_data",
          "data": {
            "text/plain": [
              "<Figure size 432x288 with 1 Axes>"
            ],
            "image/png": "[encoded data removed]"
          },
          "metadata": {
            "needs_background": "light"
          }
        },
        {
          "output_type": "stream",
          "name": "stdout",
          "text": [
            "0.8595505617977528\n"
          ]
        },
        {
          "output_type": "display_data",
          "data": {
            "text/plain": [
              "<Figure size 432x288 with 1 Axes>"
            ],
            "image/png": "[encoded data removed]"
          },
          "metadata": {
            "needs_background": "light"
          }
        }
      ]
    },
    {
      "cell_type": "markdown",
      "metadata": {
        "id": "kNgnVQ55ElxC"
      },
      "source": [
        "# Boosting algorithms:\n",
        "\n",
        "In machine learning, boosting is an ensemble meta-algorithm for primarily reducing bias, and also variance in supervised learning, and a family of machine learning algorithms that convert weak learners to strong ones.\n",
        "\n",
        "Boosting improves machine models' predictive accuracy and performance by converting multiple weak learners into a single strong learning model. Machine learning models can be weak learners or strong learners\n",
        "\n",
        "Examples:"
      ]
    },
    {
      "cell_type": "markdown",
      "metadata": {
        "id": "ghPAunuGJ-co"
      },
      "source": [
        "* AdaBoost : Adaptive boosting\n",
        "* GBM : Gradient Boosting\n",
        "* XGBM : Extreme Gradient Boosting\n",
        "* Light GBM\n",
        "* CatBoost\n",
        "\n",
        "### Weak learners\n",
        "Weak learners have low prediction accuracy, similar to random guessing. They are prone to overfitting—that is, they can't classify data that varies too much from their original dataset. For example, if you train the model to identify cats as animals with pointed ears, it might fail to recognize a cat whose ears are curled.\n",
        "\n",
        "### Strong learners\n",
        "Strong learners have higher prediction accuracy. Boosting converts a system of weak learners into a single strong learning system. For example, to identify the cat image, it combines a weak learner that guesses for pointy ears and another learner that guesses for cat-shaped eyes. After analyzing the animal image for pointy ears, the system analyzes it once again for cat-shaped eyes. This improves the system's overall accuracy."
      ]
    },
    {
      "cell_type": "markdown",
      "source": [
        "## Gradient Boosting Classifier"
      ],
      "metadata": {
        "id": "0auWSYuU2T0h"
      }
    },
    {
      "cell_type": "markdown",
      "source": [
        "Gradient Tree Boosting or Gradient Boosted Decision Trees (GBDT) is a generalization of boosting to arbitrary differentiable loss functions.\n",
        "GradientBoostingClassifier supports both binary and multi-class classification.\n",
        "The number of weak learners (i.e. regression trees) is controlled by the parameter n_estimators"
      ],
      "metadata": {
        "id": "xIhVMj9R9WFV"
      }
    },
    {
      "cell_type": "code",
      "source": [
        "from sklearn.model_selection import train_test_split"
      ],
      "metadata": {
        "id": "kZKkqRHvre2s"
      },
      "execution_count": null,
      "outputs": []
    },
    {
      "cell_type": "code",
      "metadata": {
        "id": "NP3Uoi7wWHMw"
      },
      "source": [
        "x_train, x_test, y_train, y_test = train_test_split(X, y, test_size = 0.3)"
      ],
      "execution_count": null,
      "outputs": []
    },
    {
      "cell_type": "code",
      "source": [
        "from sklearn.ensemble import GradientBoostingClassifier"
      ],
      "metadata": {
        "id": "5ff67JNPU9iQ"
      },
      "execution_count": null,
      "outputs": []
    },
    {
      "cell_type": "code",
      "metadata": {
        "id": "FKJSSVbDWHSt",
        "colab": {
          "base_uri": "https://localhost:8080/"
        },
        "outputId": "c9f2f3c2-7d2f-4f2d-fa93-91863b6b7efa"
      },
      "source": [
        "model = GradientBoostingClassifier()\n",
        "model.fit(x_train,y_train)\n",
        "model.score(x_test,y_test)"
      ],
      "execution_count": null,
      "outputs": [
        {
          "output_type": "execute_result",
          "data": {
            "text/plain": [
              "0.8888888888888888"
            ]
          },
          "metadata": {},
          "execution_count": 59
        }
      ]
    },
    {
      "cell_type": "markdown",
      "source": [
        "##  Xgboost Classifier"
      ],
      "metadata": {
        "id": "lNcB79YA2YbT"
      }
    },
    {
      "cell_type": "markdown",
      "source": [
        "XGBoost, which stands for Extreme Gradient Boosting, is a scalable, distributed gradient-boosted decision tree (GBDT) machine learning library. It provides parallel tree boosting and is the leading machine learning library for regression, classification, and ranking problems."
      ],
      "metadata": {
        "id": "2ve3czC8-pI2"
      }
    },
    {
      "cell_type": "code",
      "metadata": {
        "id": "W-BUochWWHb5",
        "colab": {
          "base_uri": "https://localhost:8080/"
        },
        "outputId": "03553945-3114-42b3-9584-f8acdeeb09dd"
      },
      "source": [
        "import xgboost as xgb\n",
        "\n",
        "model = xgb.XGBClassifier()\n",
        "model.fit(x_train,y_train)\n",
        "model.score(x_test, y_test)\n"
      ],
      "execution_count": null,
      "outputs": [
        {
          "output_type": "execute_result",
          "data": {
            "text/plain": [
              "0.8888888888888888"
            ]
          },
          "metadata": {},
          "execution_count": 60
        }
      ]
    },
    {
      "cell_type": "markdown",
      "source": [
        "XGBoost gained significant favor in the last few years as a result of helping individuals and teams win virtually every Kaggle structured data competition. In these competitions, companies and researchers post data after which statisticians and data miners compete to produce the best models for predicting and describing the data."
      ],
      "metadata": {
        "id": "Uo4USgnu-vvT"
      }
    },
    {
      "cell_type": "markdown",
      "metadata": {
        "id": "VOswZoQYMWVN"
      },
      "source": [
        "# Ensemble Learning:\n",
        "* Homogeneous ensemble methods : Bagging , Boosting\n",
        "* Heterogeneous ensemble methods: Stacking"
      ]
    },
    {
      "cell_type": "code",
      "metadata": {
        "id": "9A7BIEAcWw-7"
      },
      "source": [
        "from sklearn.neighbors import KNeighborsClassifier\n",
        "from sklearn.naive_bayes import GaussianNB\n",
        "from sklearn.linear_model import LogisticRegression\n",
        "from sklearn.ensemble import RandomForestClassifier\n",
        "import six"
      ],
      "execution_count": null,
      "outputs": []
    },
    {
      "cell_type": "code",
      "source": [
        "#!pip install --ignore-installed  mlxtend"
      ],
      "metadata": {
        "id": "dygc8AVMtQWs"
      },
      "execution_count": null,
      "outputs": []
    },
    {
      "cell_type": "code",
      "source": [
        "from mlxtend.classifier import StackingClassifier"
      ],
      "metadata": {
        "id": "e-Qpf2fHsHRs"
      },
      "execution_count": null,
      "outputs": []
    },
    {
      "cell_type": "markdown",
      "source": [
        "## KNeighbors Classifier\n",
        "Classifier implementing the k-nearest neighbors vote.\n",
        "Using KNeighborsClassifier and then the argument inside determines how many nearest neighbors you want your datapoint to look at. There is no rule of thumb for how many neighbors you should look at"
      ],
      "metadata": {
        "id": "MVTZxNXe4Rtu"
      }
    },
    {
      "cell_type": "code",
      "source": [
        "clfk = KNeighborsClassifier(n_neighbors=1)"
      ],
      "metadata": {
        "id": "lVGoRd3C4YkV"
      },
      "execution_count": null,
      "outputs": []
    },
    {
      "cell_type": "markdown",
      "source": [
        "# GaussianNB Classifier\n",
        "\n",
        "A Gaussian Naive Bayes algorithm is a special type of NB algorithm. It's specifically used when the features have continuous values. It's also assumed that all the features are following a gaussian distribution i.e, normal distribution."
      ],
      "metadata": {
        "id": "Stn_ZbYP4agz"
      }
    },
    {
      "cell_type": "code",
      "source": [
        "clfg = GaussianNB()\n"
      ],
      "metadata": {
        "id": "o8b1pZDu4qKp"
      },
      "execution_count": null,
      "outputs": []
    },
    {
      "cell_type": "markdown",
      "source": [
        "## Random Forest Classifier\n",
        "Random forest, like its name implies, consists of a large number of individual decision trees that operate as an ensemble. Each individual tree in the random forest spits out a class prediction and the class with the most votes becomes our model’s prediction\n",
        "\n",
        "A large number of relatively uncorrelated models (trees) operating as a committee will outperform any of the individual constituent models.\n",
        "\n",
        "The low correlation between models is the key.  While some trees may be wrong, many other trees will be right, so as a group the trees are able to move in the correct direction. \n",
        "\n",
        "So the prerequisites for random forest to perform well are:\n",
        "\n",
        "1. There needs to be some actual signal in our features so that models built using those features do better than random guessing.\n",
        "\n",
        "2. The predictions (and therefore the errors) made by the individual trees need to have low correlations with each other.\n"
      ],
      "metadata": {
        "id": "cIFbIaQY4sK0"
      }
    },
    {
      "cell_type": "code",
      "source": [
        "\n",
        "clfr = RandomForestClassifier()\n"
      ],
      "metadata": {
        "id": "bcExiQb1r5oA"
      },
      "execution_count": null,
      "outputs": []
    },
    {
      "cell_type": "markdown",
      "source": [
        "## Logistic Regression\n",
        "\n",
        "In statistics, the  logistic model  is a statistical model that models the probability of one event (out of two alternatives) taking place by having the log-odds (the logarithm of the odds) for the event be a linear combination of one or more independent variables (\"predictors\"). \n",
        "\n",
        "In regression analysis, logistic regression is estimating the parameters of a logistic model (the coefficients in the linear combination). \n",
        "\n",
        "Logistic regression estimates the probability of an event occurring, such as voted or didn’t vote, based on a given dataset of independent variables. Since the outcome is a probability, the dependent variable is bounded between 0 and 1. In logistic regression, a logit transformation is applied on the odds—that is, the probability of success divided by the probability of failure. This is also commonly known as the log odds, or the natural logarithm of odds, and this logistic function is represented by the following formulas:\n",
        "\n",
        "$$Logit(pi) = 1/(1+ exp(-pi))$$\n",
        "\n",
        "$$ln(pi/(1-pi)) = Beta_0 + Beta_1*X_1 + … + B_k*K_k$$"
      ],
      "metadata": {
        "id": "NTKRRClm4yJM"
      }
    },
    {
      "cell_type": "code",
      "source": [
        "lr=LogisticRegression()"
      ],
      "metadata": {
        "id": "Ag_vUZ454xNu"
      },
      "execution_count": null,
      "outputs": []
    },
    {
      "cell_type": "markdown",
      "source": [
        "# StackingClassifier"
      ],
      "metadata": {
        "id": "0_omzlUX45DW"
      }
    },
    {
      "cell_type": "markdown",
      "source": [
        "Stacked generalization is a method for combining estimators to reduce their biases. More precisely, the predictions of each individual estimator are stacked together and used as input to a final estimator to compute the prediction. This final estimator is trained through cross-validation."
      ],
      "metadata": {
        "id": "rM6tdvPP-S7n"
      }
    },
    {
      "cell_type": "code",
      "source": [
        "sclf = StackingClassifier(classifiers=[clfk, clfg, clfr], meta_classifier= lr)\n"
      ],
      "metadata": {
        "id": "jZjszeETdn43"
      },
      "execution_count": null,
      "outputs": []
    },
    {
      "cell_type": "code",
      "metadata": {
        "id": "fUWo6ZvcWM-b",
        "colab": {
          "base_uri": "https://localhost:8080/",
          "height": 1000
        },
        "outputId": "607ffb67-6b32-4936-cf07-b500e5503b4d"
      },
      "source": [
        "clfs = [clfk, clfg, clfr,sclf]\n",
        "for classifier in clfs:\n",
        "  classifier.fit(x_train,y_train)\n",
        "  print('Acc', classifier.score(x_test,y_test))\n",
        "  plot_decision_regions(x_test, y_test,classifier)\n",
        "  plt.show()\n"
      ],
      "execution_count": null,
      "outputs": [
        {
          "output_type": "stream",
          "name": "stdout",
          "text": [
            "Acc 0.7222222222222222\n"
          ]
        },
        {
          "output_type": "display_data",
          "data": {
            "text/plain": [
              "<Figure size 432x288 with 1 Axes>"
            ],
            "image/png": "[encoded data removed]"
          },
          "metadata": {
            "needs_background": "light"
          }
        },
        {
          "output_type": "stream",
          "name": "stdout",
          "text": [
            "Acc 0.9074074074074074\n"
          ]
        },
        {
          "output_type": "display_data",
          "data": {
            "text/plain": [
              "<Figure size 432x288 with 1 Axes>"
            ],
            "image/png": "[encoded data removed]"
          },
          "metadata": {
            "needs_background": "light"
          }
        },
        {
          "output_type": "stream",
          "name": "stdout",
          "text": [
            "Acc 0.9074074074074074\n"
          ]
        },
        {
          "output_type": "display_data",
          "data": {
            "text/plain": [
              "<Figure size 432x288 with 1 Axes>"
            ],
            "image/png": "[encoded data removed]"
          },
          "metadata": {
            "needs_background": "light"
          }
        },
        {
          "output_type": "stream",
          "name": "stdout",
          "text": [
            "Acc 0.8703703703703703\n"
          ]
        },
        {
          "output_type": "display_data",
          "data": {
            "text/plain": [
              "<Figure size 432x288 with 1 Axes>"
            ],
            "image/png": "[encoded data removed]"
          },
          "metadata": {
            "needs_background": "light"
          }
        }
      ]
    },
    {
      "cell_type": "markdown",
      "source": [
        "In practice, a stacking predictor predicts as good as the best predictor of the base layer and even sometimes outperforms it by combining the different strengths of the these predictors. However, training a stacking predictor is computationally expensive.\n",
        "\n",
        "### The following are common limitations of boosting modes:\n",
        "Vulnerability to outlier data\n",
        "Boosting models are vulnerable to outliers or data values that are different from the rest of the dataset. Because each model attempts to correct the faults of its predecessor, outliers can skew results significantly.\n",
        "Real-time implementation\n",
        "You might also find it challenging to use boosting for real-time implementation because the algorithm is more complex than other processes. Boosting methods have high adaptability, so you can use a wide variety of model parameters that immediately affect the model's performance\n",
        "\n",
        "## Boosting compared to bagging\n",
        "Boosting and bagging are the two common ensemble methods that improve prediction accuracy. The main difference between these learning methods is the method of training. In bagging, data scientists improve the accuracy of weak learners by training several of them at once on multiple datasets. In contrast, boosting trains weak learners one after another."
      ],
      "metadata": {
        "id": "Qh1GIMa_-aeJ"
      }
    },
    {
      "cell_type": "markdown",
      "source": [
        "**Congratulations!** We have discussed some of the most common ensemble models for multiclass classification."
      ],
      "metadata": {
        "id": "vJsgHU7MGd0f"
      }
    }
  ]
}